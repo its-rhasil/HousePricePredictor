{
 "cells": [
  {
   "cell_type": "code",
   "execution_count": 1,
   "id": "294d34ba-2059-41c1-9341-d388fa1ea04f",
   "metadata": {},
   "outputs": [],
   "source": [
    "import pandas as pd"
   ]
  },
  {
   "cell_type": "code",
   "execution_count": 2,
   "id": "23314a09-4cb4-4d0f-b8c2-e2f4aecfc1b0",
   "metadata": {},
   "outputs": [],
   "source": [
    "import numpy as np"
   ]
  },
  {
   "cell_type": "code",
   "execution_count": 3,
   "id": "c79c51e0-50cb-4015-a24e-9e2091e69917",
   "metadata": {},
   "outputs": [],
   "source": [
    "df = pd.read_csv(\"data/real_estate.csv\")"
   ]
  },
  {
   "cell_type": "code",
   "execution_count": 4,
   "id": "e7ae63fb-84b0-4216-a5de-5547610aac59",
   "metadata": {},
   "outputs": [],
   "source": [
    "df.drop_duplicates(keep = \"first\", inplace = True)"
   ]
  },
  {
   "cell_type": "code",
   "execution_count": 5,
   "id": "8cb25fd8-90a3-419e-9a5c-d5f59a448be8",
   "metadata": {},
   "outputs": [],
   "source": [
    "df[\"Area\"] = [i[0] for i in df[\"Area\"].str.split()]"
   ]
  },
  {
   "cell_type": "code",
   "execution_count": 6,
   "id": "341eb05a-2d15-4c66-b47e-3bfdda7e0556",
   "metadata": {},
   "outputs": [],
   "source": [
    "df[\"Area\"] = df[\"Area\"].str.replace(\",\",\"\")"
   ]
  },
  {
   "cell_type": "code",
   "execution_count": 7,
   "id": "e39d9a6c-a7f6-413e-b544-55871a597b51",
   "metadata": {},
   "outputs": [],
   "source": [
    "df[\"Area\"] = df[\"Area\"].astype(float)"
   ]
  },
  {
   "cell_type": "code",
   "execution_count": 8,
   "id": "2595c3a0-f05e-4d9b-8e4c-43f13885e3cf",
   "metadata": {},
   "outputs": [
    {
     "data": {
      "text/plain": [
       "0       1505.0\n",
       "1       1100.0\n",
       "2       1203.0\n",
       "3       1402.0\n",
       "4       1185.0\n",
       "         ...  \n",
       "1037    1665.0\n",
       "1038    1225.0\n",
       "1039     677.0\n",
       "1040    1254.0\n",
       "1041    1608.0\n",
       "Name: Area, Length: 815, dtype: float64"
      ]
     },
     "execution_count": 8,
     "metadata": {},
     "output_type": "execute_result"
    }
   ],
   "source": [
    "df[\"Area\"]"
   ]
  },
  {
   "cell_type": "code",
   "execution_count": 9,
   "id": "02739946-3cdf-4741-9d53-107d79a8d80b",
   "metadata": {},
   "outputs": [],
   "source": [
    "df.loc[df['Area-Type'] == 'Carpet Area', 'Area'] *= 1.5"
   ]
  },
  {
   "cell_type": "code",
   "execution_count": 10,
   "id": "074d2124-c711-41e4-b5ab-e153c2832742",
   "metadata": {},
   "outputs": [],
   "source": [
    "df.drop(\"Area-Type\",axis=1,inplace = True)"
   ]
  },
  {
   "cell_type": "code",
   "execution_count": 11,
   "id": "3091108f-0f7b-4bbe-9b09-af86681e7720",
   "metadata": {},
   "outputs": [],
   "source": [
    "df[\"BHK\"] = [i[0] for i in df[\"Title\"].str.split()]"
   ]
  },
  {
   "cell_type": "code",
   "execution_count": 12,
   "id": "a70eec47-5f16-42a3-818c-efa294633e53",
   "metadata": {},
   "outputs": [
    {
     "data": {
      "text/plain": [
       "array(['3', '2', '1', '5', '4', 'Builder', '6', 'Apartment', 'Studio',\n",
       "       '30490', '3500', '4+', '3484', '1100', '4400', '4356', '4000',\n",
       "       '5200', '4360', '2000', '1750', '2485', '2178', '2200', '1350'],\n",
       "      dtype=object)"
      ]
     },
     "execution_count": 12,
     "metadata": {},
     "output_type": "execute_result"
    }
   ],
   "source": [
    "df[\"BHK\"].unique()"
   ]
  },
  {
   "cell_type": "code",
   "execution_count": 13,
   "id": "f11c4b9d-57ad-4788-8e7c-649ce185a5d6",
   "metadata": {},
   "outputs": [],
   "source": [
    "df.loc[df[\"BHK\"].isin(['Builder','Apartment','Studio','30490', '3500', '3484', '1100', '4400', '4356', '4000','5200', '4360', '2000', '1750', '2485', '2178', '2200', '1350']),\"BHK\"]=np.nan"
   ]
  },
  {
   "cell_type": "code",
   "execution_count": 14,
   "id": "cfdc5d8c-fc4d-4c4b-b5ee-2b466798ac92",
   "metadata": {},
   "outputs": [
    {
     "data": {
      "text/html": [
       "<div>\n",
       "<style scoped>\n",
       "    .dataframe tbody tr th:only-of-type {\n",
       "        vertical-align: middle;\n",
       "    }\n",
       "\n",
       "    .dataframe tbody tr th {\n",
       "        vertical-align: top;\n",
       "    }\n",
       "\n",
       "    .dataframe thead th {\n",
       "        text-align: right;\n",
       "    }\n",
       "</style>\n",
       "<table border=\"1\" class=\"dataframe\">\n",
       "  <thead>\n",
       "    <tr style=\"text-align: right;\">\n",
       "      <th></th>\n",
       "      <th>Title</th>\n",
       "      <th>Price</th>\n",
       "      <th>Area</th>\n",
       "      <th>BHK</th>\n",
       "    </tr>\n",
       "  </thead>\n",
       "  <tbody>\n",
       "    <tr>\n",
       "      <th>56</th>\n",
       "      <td>Builder Floor for Sale in Kodailbail, Mangalore</td>\n",
       "      <td>₹48 Lac</td>\n",
       "      <td>330.0</td>\n",
       "      <td>NaN</td>\n",
       "    </tr>\n",
       "    <tr>\n",
       "      <th>214</th>\n",
       "      <td>Apartment for Sale in Kodailbail, Mangalore</td>\n",
       "      <td>₹75 Lac</td>\n",
       "      <td>1175.0</td>\n",
       "      <td>NaN</td>\n",
       "    </tr>\n",
       "    <tr>\n",
       "      <th>450</th>\n",
       "      <td>Studio Apartment for Sale in Kadri Hills, Mang...</td>\n",
       "      <td>₹42 Lac</td>\n",
       "      <td>1147.5</td>\n",
       "      <td>NaN</td>\n",
       "    </tr>\n",
       "    <tr>\n",
       "      <th>517</th>\n",
       "      <td>30490 Sq. ft Plot for Sale in Moodabidiri, Man...</td>\n",
       "      <td>1.20 Crore</td>\n",
       "      <td>30490.0</td>\n",
       "      <td>NaN</td>\n",
       "    </tr>\n",
       "    <tr>\n",
       "      <th>555</th>\n",
       "      <td>3500 Sq.ft Plot for Sale in Kulai, Mangalore</td>\n",
       "      <td>52.50 Lakh</td>\n",
       "      <td>3500.0</td>\n",
       "      <td>NaN</td>\n",
       "    </tr>\n",
       "    <tr>\n",
       "      <th>664</th>\n",
       "      <td>3484 Sqft Plot for Sale in Moodabidiri, Mangalore</td>\n",
       "      <td>22 Lakhs</td>\n",
       "      <td>3484.0</td>\n",
       "      <td>NaN</td>\n",
       "    </tr>\n",
       "    <tr>\n",
       "      <th>711</th>\n",
       "      <td>1100 Sq.ft Plot for Sale in Puttur, Mangalore</td>\n",
       "      <td>20 Lakhs</td>\n",
       "      <td>1100.0</td>\n",
       "      <td>NaN</td>\n",
       "    </tr>\n",
       "    <tr>\n",
       "      <th>778</th>\n",
       "      <td>4400 Sq.ft Plot for Sale in Moodabidiri, Manga...</td>\n",
       "      <td>30.80 Lakh</td>\n",
       "      <td>4400.0</td>\n",
       "      <td>NaN</td>\n",
       "    </tr>\n",
       "    <tr>\n",
       "      <th>798</th>\n",
       "      <td>4356 Sq. ft Plot for Sale in Mangalore Airport...</td>\n",
       "      <td>4 Lakhs</td>\n",
       "      <td>4356.0</td>\n",
       "      <td>NaN</td>\n",
       "    </tr>\n",
       "    <tr>\n",
       "      <th>802</th>\n",
       "      <td>4000 Sqft Plot For Sale in B.C Road, Mangalore</td>\n",
       "      <td>66 Lakhs</td>\n",
       "      <td>4000.0</td>\n",
       "      <td>NaN</td>\n",
       "    </tr>\n",
       "    <tr>\n",
       "      <th>840</th>\n",
       "      <td>5200 Sq. ft Plot for Sale in Derlakatte, Manga...</td>\n",
       "      <td>54 Lakhs</td>\n",
       "      <td>5200.0</td>\n",
       "      <td>NaN</td>\n",
       "    </tr>\n",
       "    <tr>\n",
       "      <th>851</th>\n",
       "      <td>4360 Sq. ft Plot for Sale in Moodabidiri, Mang...</td>\n",
       "      <td>12.50 Lakh</td>\n",
       "      <td>4360.0</td>\n",
       "      <td>NaN</td>\n",
       "    </tr>\n",
       "    <tr>\n",
       "      <th>883</th>\n",
       "      <td>2000 Sq. ft Plot for Sale in Urwa, Mangalore</td>\n",
       "      <td>40 Lakhs</td>\n",
       "      <td>2000.0</td>\n",
       "      <td>NaN</td>\n",
       "    </tr>\n",
       "    <tr>\n",
       "      <th>907</th>\n",
       "      <td>1100 Sq.ft Plot for Sale in Puttur, Mangalore</td>\n",
       "      <td>15.40 Lakh</td>\n",
       "      <td>1100.0</td>\n",
       "      <td>NaN</td>\n",
       "    </tr>\n",
       "    <tr>\n",
       "      <th>908</th>\n",
       "      <td>1750 Sq.ft Plot for Sale in Puttur, Mangalore</td>\n",
       "      <td>25.37 Lakh</td>\n",
       "      <td>1750.0</td>\n",
       "      <td>NaN</td>\n",
       "    </tr>\n",
       "    <tr>\n",
       "      <th>909</th>\n",
       "      <td>2485 Sq.ft Plot for Sale in Kudupu, Mangalore</td>\n",
       "      <td>48.49 Lakh</td>\n",
       "      <td>2485.0</td>\n",
       "      <td>NaN</td>\n",
       "    </tr>\n",
       "    <tr>\n",
       "      <th>910</th>\n",
       "      <td>2178 Sq.ft Plot for Sale in Kudupu, Mangalore</td>\n",
       "      <td>42.50 Lakh</td>\n",
       "      <td>2178.0</td>\n",
       "      <td>NaN</td>\n",
       "    </tr>\n",
       "    <tr>\n",
       "      <th>933</th>\n",
       "      <td>2200 Sqft Plot for Sale in Puttur, Mangalore</td>\n",
       "      <td>30.80 Lakh</td>\n",
       "      <td>2200.0</td>\n",
       "      <td>NaN</td>\n",
       "    </tr>\n",
       "    <tr>\n",
       "      <th>934</th>\n",
       "      <td>1350 Sqft Plot for Sale in Puttur, Mangalore</td>\n",
       "      <td>18.22 Lakh</td>\n",
       "      <td>1350.0</td>\n",
       "      <td>NaN</td>\n",
       "    </tr>\n",
       "  </tbody>\n",
       "</table>\n",
       "</div>"
      ],
      "text/plain": [
       "                                                 Title       Price     Area  \\\n",
       "56     Builder Floor for Sale in Kodailbail, Mangalore     ₹48 Lac    330.0   \n",
       "214        Apartment for Sale in Kodailbail, Mangalore     ₹75 Lac   1175.0   \n",
       "450  Studio Apartment for Sale in Kadri Hills, Mang...     ₹42 Lac   1147.5   \n",
       "517  30490 Sq. ft Plot for Sale in Moodabidiri, Man...  1.20 Crore  30490.0   \n",
       "555       3500 Sq.ft Plot for Sale in Kulai, Mangalore  52.50 Lakh   3500.0   \n",
       "664  3484 Sqft Plot for Sale in Moodabidiri, Mangalore    22 Lakhs   3484.0   \n",
       "711      1100 Sq.ft Plot for Sale in Puttur, Mangalore    20 Lakhs   1100.0   \n",
       "778  4400 Sq.ft Plot for Sale in Moodabidiri, Manga...  30.80 Lakh   4400.0   \n",
       "798  4356 Sq. ft Plot for Sale in Mangalore Airport...     4 Lakhs   4356.0   \n",
       "802     4000 Sqft Plot For Sale in B.C Road, Mangalore    66 Lakhs   4000.0   \n",
       "840  5200 Sq. ft Plot for Sale in Derlakatte, Manga...    54 Lakhs   5200.0   \n",
       "851  4360 Sq. ft Plot for Sale in Moodabidiri, Mang...  12.50 Lakh   4360.0   \n",
       "883       2000 Sq. ft Plot for Sale in Urwa, Mangalore    40 Lakhs   2000.0   \n",
       "907      1100 Sq.ft Plot for Sale in Puttur, Mangalore  15.40 Lakh   1100.0   \n",
       "908      1750 Sq.ft Plot for Sale in Puttur, Mangalore  25.37 Lakh   1750.0   \n",
       "909      2485 Sq.ft Plot for Sale in Kudupu, Mangalore  48.49 Lakh   2485.0   \n",
       "910      2178 Sq.ft Plot for Sale in Kudupu, Mangalore  42.50 Lakh   2178.0   \n",
       "933       2200 Sqft Plot for Sale in Puttur, Mangalore  30.80 Lakh   2200.0   \n",
       "934       1350 Sqft Plot for Sale in Puttur, Mangalore  18.22 Lakh   1350.0   \n",
       "\n",
       "     BHK  \n",
       "56   NaN  \n",
       "214  NaN  \n",
       "450  NaN  \n",
       "517  NaN  \n",
       "555  NaN  \n",
       "664  NaN  \n",
       "711  NaN  \n",
       "778  NaN  \n",
       "798  NaN  \n",
       "802  NaN  \n",
       "840  NaN  \n",
       "851  NaN  \n",
       "883  NaN  \n",
       "907  NaN  \n",
       "908  NaN  \n",
       "909  NaN  \n",
       "910  NaN  \n",
       "933  NaN  \n",
       "934  NaN  "
      ]
     },
     "execution_count": 14,
     "metadata": {},
     "output_type": "execute_result"
    }
   ],
   "source": [
    "df[df[\"BHK\"].isnull()]"
   ]
  },
  {
   "cell_type": "code",
   "execution_count": 15,
   "id": "757c8a66-5095-4520-a70f-6991320e514a",
   "metadata": {},
   "outputs": [],
   "source": [
    "df[\"BHK\"] = df[\"BHK\"].replace(\"4+\",\"6\")"
   ]
  },
  {
   "cell_type": "code",
   "execution_count": 16,
   "id": "c53147b1-6549-4b27-9a43-6f28b8e84a30",
   "metadata": {},
   "outputs": [
    {
     "data": {
      "text/plain": [
       "array(['3', '2', '1', '5', '4', nan, '6'], dtype=object)"
      ]
     },
     "execution_count": 16,
     "metadata": {},
     "output_type": "execute_result"
    }
   ],
   "source": [
    "df[\"BHK\"].unique()"
   ]
  },
  {
   "cell_type": "code",
   "execution_count": 17,
   "id": "769a387d-88b1-43ad-99a8-b7f7cf3f6324",
   "metadata": {},
   "outputs": [],
   "source": [
    "df[\"BHK\"] = df[\"BHK\"].fillna(0)"
   ]
  },
  {
   "cell_type": "code",
   "execution_count": 18,
   "id": "74a445af-7179-4897-a03f-678ac2788931",
   "metadata": {},
   "outputs": [],
   "source": [
    "df[\"BHK\"] = df[\"BHK\"].astype(int)"
   ]
  },
  {
   "cell_type": "code",
   "execution_count": 19,
   "id": "e0b92214-627d-493b-a137-f73b951d0727",
   "metadata": {},
   "outputs": [
    {
     "data": {
      "text/plain": [
       "0       3\n",
       "1       2\n",
       "2       2\n",
       "3       3\n",
       "4       2\n",
       "       ..\n",
       "1037    3\n",
       "1038    2\n",
       "1039    1\n",
       "1040    2\n",
       "1041    3\n",
       "Name: BHK, Length: 815, dtype: int64"
      ]
     },
     "execution_count": 19,
     "metadata": {},
     "output_type": "execute_result"
    }
   ],
   "source": [
    "df[\"BHK\"]"
   ]
  },
  {
   "cell_type": "code",
   "execution_count": 20,
   "id": "a9574d35-f59d-4300-88af-864eb06fe746",
   "metadata": {},
   "outputs": [],
   "source": [
    "df[\"Location\"] = [i[-2] for i in df[\"Title\"].str.split()]"
   ]
  },
  {
   "cell_type": "code",
   "execution_count": 21,
   "id": "43d7dee3-d7ac-48e8-8d45-eb464ac8e5af",
   "metadata": {},
   "outputs": [],
   "source": [
    "df = df[df[\"Location\"] != \"in\"]"
   ]
  },
  {
   "cell_type": "code",
   "execution_count": 22,
   "id": "455808c4-71c5-4f0e-9f05-7bc323699d5e",
   "metadata": {},
   "outputs": [],
   "source": [
    "df[\"Location\"] = df[\"Location\"].replace(\",\",\"\",regex = True)"
   ]
  },
  {
   "cell_type": "code",
   "execution_count": 74,
   "id": "5091ad66-66e7-465c-a709-f6dfd5c5e88e",
   "metadata": {},
   "outputs": [
    {
     "data": {
      "text/plain": [
       "array(['Bejai', 'Krishnapura', 'Surathkal', 'Hampankatta', 'Kavoor',\n",
       "       'Kadri', 'Valenica', 'Nagar', 'Pandeshwar', 'Nantoor', 'Derebail',\n",
       "       'Mary Hill', 'Padukodi', 'Road', 'Airport road', 'Jeppinamogaru',\n",
       "       'Kulshekar', 'Pumpwell', 'Mannagudda', 'Moodabidri', 'Padil',\n",
       "       'Bikarnakatta', 'Nanthoor', 'Kulai', 'Yeyyadi', 'Pachanady',\n",
       "       'Bendoor', 'Urwa', 'Kodailbail', 'Chowk', 'Kottara', 'Kodalguttu',\n",
       "       'Mangaladevi', 'Kodialbail', 'Bajpe', 'Konaje', 'Kankanady',\n",
       "       'Derelakatai', 'Kuntikana', 'Kudroli', 'Bondel', 'Attavar',\n",
       "       'Kulashekara', 'Bendoorwell', 'Balmatta', 'Maroli', 'Lalbagh',\n",
       "       'Boloor', 'Gurupura', 'Mukka', 'Thokkttu', 'Chilimbi',\n",
       "       'Subhashnagar', 'Car Street', 'Shiva bagh', 'Bunder', 'Matadakani',\n",
       "       'Padavinangady', 'Ballalbagh', 'Junction', 'Ladyhill',\n",
       "       'Mallikatte', 'hostel', 'Falnir', 'Alape', 'Kotekani', 'Ullal',\n",
       "       'Vamanjoor', 'Bolar', 'Moodabidiri', 'Kaikamba', 'Alake',\n",
       "       'Chilambi', 'Urva', 'Neermarga', 'Kinnigoli', 'Shaktinagar',\n",
       "       'Mulki', 'Kapikad', 'Konchady', 'Kotekar', 'Valencia', 'Kodikal',\n",
       "       'Puttur', 'Bantwal', 'Kuloor', 'Derlakatte', 'Kudupu', 'Kodiabail',\n",
       "       'Karangalpady'], dtype=object)"
      ]
     },
     "execution_count": 74,
     "metadata": {},
     "output_type": "execute_result"
    }
   ],
   "source": [
    "df[\"Location\"].unique()"
   ]
  },
  {
   "cell_type": "code",
   "execution_count": 83,
   "id": "58f3e9ab-fe12-4288-a400-3bcfdfae4a5c",
   "metadata": {},
   "outputs": [
    {
     "data": {
      "text/html": [
       "<div>\n",
       "<style scoped>\n",
       "    .dataframe tbody tr th:only-of-type {\n",
       "        vertical-align: middle;\n",
       "    }\n",
       "\n",
       "    .dataframe tbody tr th {\n",
       "        vertical-align: top;\n",
       "    }\n",
       "\n",
       "    .dataframe thead th {\n",
       "        text-align: right;\n",
       "    }\n",
       "</style>\n",
       "<table border=\"1\" class=\"dataframe\">\n",
       "  <thead>\n",
       "    <tr style=\"text-align: right;\">\n",
       "      <th></th>\n",
       "      <th>Title</th>\n",
       "      <th>Price</th>\n",
       "      <th>Area</th>\n",
       "      <th>BHK</th>\n",
       "      <th>Location</th>\n",
       "    </tr>\n",
       "  </thead>\n",
       "  <tbody>\n",
       "    <tr>\n",
       "      <th>18</th>\n",
       "      <td>2 BHK Flat for Sale in Barebail Road, Mangalore</td>\n",
       "      <td>₹35 Lac</td>\n",
       "      <td>780.0</td>\n",
       "      <td>2</td>\n",
       "      <td>Road</td>\n",
       "    </tr>\n",
       "    <tr>\n",
       "      <th>33</th>\n",
       "      <td>2 BHK Flat for Sale in Arya Samaj Road, Mangalore</td>\n",
       "      <td>₹65 Lac</td>\n",
       "      <td>1875.0</td>\n",
       "      <td>2</td>\n",
       "      <td>Road</td>\n",
       "    </tr>\n",
       "    <tr>\n",
       "      <th>42</th>\n",
       "      <td>3 BHK Flat for Sale in Bejai New Road, Mangalore</td>\n",
       "      <td>₹70 Lac</td>\n",
       "      <td>1350.0</td>\n",
       "      <td>3</td>\n",
       "      <td>Road</td>\n",
       "    </tr>\n",
       "    <tr>\n",
       "      <th>270</th>\n",
       "      <td>2 BHK Flat for Sale in Konchady Cross Road, Ma...</td>\n",
       "      <td>₹45 Lac</td>\n",
       "      <td>1160.0</td>\n",
       "      <td>2</td>\n",
       "      <td>Road</td>\n",
       "    </tr>\n",
       "    <tr>\n",
       "      <th>283</th>\n",
       "      <td>2 BHK Flat for Sale in Bejai Kapikad Road, Man...</td>\n",
       "      <td>Call for Price</td>\n",
       "      <td>1140.0</td>\n",
       "      <td>2</td>\n",
       "      <td>Road</td>\n",
       "    </tr>\n",
       "    <tr>\n",
       "      <th>357</th>\n",
       "      <td>3 BHK Flat for Sale in Konchady Cross Road, Ma...</td>\n",
       "      <td>₹50 Lac</td>\n",
       "      <td>1400.0</td>\n",
       "      <td>3</td>\n",
       "      <td>Road</td>\n",
       "    </tr>\n",
       "    <tr>\n",
       "      <th>374</th>\n",
       "      <td>2 BHK Flat for Sale in Bejai Kapikad Road, Man...</td>\n",
       "      <td>₹1.05 Cr</td>\n",
       "      <td>1279.0</td>\n",
       "      <td>2</td>\n",
       "      <td>Road</td>\n",
       "    </tr>\n",
       "    <tr>\n",
       "      <th>384</th>\n",
       "      <td>2 BHK Flat for Sale in Bejai Kapikad Road, Man...</td>\n",
       "      <td>₹26 Lac</td>\n",
       "      <td>850.0</td>\n",
       "      <td>2</td>\n",
       "      <td>Road</td>\n",
       "    </tr>\n",
       "    <tr>\n",
       "      <th>402</th>\n",
       "      <td>2 BHK Flat for Sale in Bejai Kapikad Road, Man...</td>\n",
       "      <td>₹1.15 Cr</td>\n",
       "      <td>1345.0</td>\n",
       "      <td>2</td>\n",
       "      <td>Road</td>\n",
       "    </tr>\n",
       "    <tr>\n",
       "      <th>406</th>\n",
       "      <td>2 BHK Flat for Sale in Balmatta Road, Mangalore</td>\n",
       "      <td>₹50 Lac</td>\n",
       "      <td>1000.0</td>\n",
       "      <td>2</td>\n",
       "      <td>Road</td>\n",
       "    </tr>\n",
       "    <tr>\n",
       "      <th>407</th>\n",
       "      <td>2 BHK Flat for Sale in Bejai New Road, Mangalore</td>\n",
       "      <td>₹1.15 Cr</td>\n",
       "      <td>1345.0</td>\n",
       "      <td>2</td>\n",
       "      <td>Road</td>\n",
       "    </tr>\n",
       "    <tr>\n",
       "      <th>412</th>\n",
       "      <td>4 BHK Flat for Sale in Bejai New Road, Mangalore</td>\n",
       "      <td>₹1.85 Cr</td>\n",
       "      <td>2237.0</td>\n",
       "      <td>4</td>\n",
       "      <td>Road</td>\n",
       "    </tr>\n",
       "    <tr>\n",
       "      <th>413</th>\n",
       "      <td>3 BHK Flat for Sale in Bejai New Road, Mangalore</td>\n",
       "      <td>₹1.50 Cr</td>\n",
       "      <td>1740.0</td>\n",
       "      <td>3</td>\n",
       "      <td>Road</td>\n",
       "    </tr>\n",
       "    <tr>\n",
       "      <th>414</th>\n",
       "      <td>3 BHK Flat for Sale in Bejai New Road, Mangalore</td>\n",
       "      <td>₹1.35 Cr</td>\n",
       "      <td>1589.0</td>\n",
       "      <td>3</td>\n",
       "      <td>Road</td>\n",
       "    </tr>\n",
       "    <tr>\n",
       "      <th>425</th>\n",
       "      <td>2 BHK Flat for Sale in Bejai New Road, Mangalore</td>\n",
       "      <td>₹1.05 Cr</td>\n",
       "      <td>1279.0</td>\n",
       "      <td>2</td>\n",
       "      <td>Road</td>\n",
       "    </tr>\n",
       "    <tr>\n",
       "      <th>484</th>\n",
       "      <td>3 BHK Flat for Sale in Kankanady Bypass Road, ...</td>\n",
       "      <td>₹1.08 Cr</td>\n",
       "      <td>1646.0</td>\n",
       "      <td>3</td>\n",
       "      <td>Road</td>\n",
       "    </tr>\n",
       "    <tr>\n",
       "      <th>485</th>\n",
       "      <td>3 BHK Flat for Sale in Kankanady Bypass Road, ...</td>\n",
       "      <td>₹1.18 Cr</td>\n",
       "      <td>1831.0</td>\n",
       "      <td>3</td>\n",
       "      <td>Road</td>\n",
       "    </tr>\n",
       "    <tr>\n",
       "      <th>486</th>\n",
       "      <td>4 BHK Flat for Sale in Kankanady Bypass Road, ...</td>\n",
       "      <td>₹2.08 Cr</td>\n",
       "      <td>2870.0</td>\n",
       "      <td>4</td>\n",
       "      <td>Road</td>\n",
       "    </tr>\n",
       "    <tr>\n",
       "      <th>488</th>\n",
       "      <td>2 BHK Flat for Sale in Kankanady Bypass Road, ...</td>\n",
       "      <td>₹81.4 Lac</td>\n",
       "      <td>1224.0</td>\n",
       "      <td>2</td>\n",
       "      <td>Road</td>\n",
       "    </tr>\n",
       "    <tr>\n",
       "      <th>545</th>\n",
       "      <td>2 BHK 1010 Sqft Apartment for Sale in Bejai-Ka...</td>\n",
       "      <td>50.68 Lakh</td>\n",
       "      <td>1010.0</td>\n",
       "      <td>2</td>\n",
       "      <td>Road</td>\n",
       "    </tr>\n",
       "    <tr>\n",
       "      <th>548</th>\n",
       "      <td>1 BHK 680 Sqft Apartment for Sale in Bejai-Kap...</td>\n",
       "      <td>34.12 Lakh</td>\n",
       "      <td>680.0</td>\n",
       "      <td>1</td>\n",
       "      <td>Road</td>\n",
       "    </tr>\n",
       "    <tr>\n",
       "      <th>550</th>\n",
       "      <td>1 BHK 660 Sqft Apartment for Sale in Bejai-Kap...</td>\n",
       "      <td>33.11 Lakh</td>\n",
       "      <td>660.0</td>\n",
       "      <td>1</td>\n",
       "      <td>Road</td>\n",
       "    </tr>\n",
       "    <tr>\n",
       "      <th>558</th>\n",
       "      <td>3 BHK 1240 Sqft Apartment for Sale in Bejai-Ka...</td>\n",
       "      <td>62.22 Lakh</td>\n",
       "      <td>1240.0</td>\n",
       "      <td>3</td>\n",
       "      <td>Road</td>\n",
       "    </tr>\n",
       "    <tr>\n",
       "      <th>716</th>\n",
       "      <td>2 BHK 975 Sqft Apartment for Sale in Bejai-Kap...</td>\n",
       "      <td>48.92 Lakh</td>\n",
       "      <td>975.0</td>\n",
       "      <td>2</td>\n",
       "      <td>Road</td>\n",
       "    </tr>\n",
       "    <tr>\n",
       "      <th>802</th>\n",
       "      <td>4000 Sqft Plot For Sale in B.C Road, Mangalore</td>\n",
       "      <td>66 Lakhs</td>\n",
       "      <td>4000.0</td>\n",
       "      <td>0</td>\n",
       "      <td>Road</td>\n",
       "    </tr>\n",
       "    <tr>\n",
       "      <th>826</th>\n",
       "      <td>2 BHK 844 Sqft Apartment for Sale in B.C Road,...</td>\n",
       "      <td>34 Lakhs</td>\n",
       "      <td>844.0</td>\n",
       "      <td>2</td>\n",
       "      <td>Road</td>\n",
       "    </tr>\n",
       "  </tbody>\n",
       "</table>\n",
       "</div>"
      ],
      "text/plain": [
       "                                                 Title           Price  \\\n",
       "18     2 BHK Flat for Sale in Barebail Road, Mangalore         ₹35 Lac   \n",
       "33   2 BHK Flat for Sale in Arya Samaj Road, Mangalore         ₹65 Lac   \n",
       "42    3 BHK Flat for Sale in Bejai New Road, Mangalore         ₹70 Lac   \n",
       "270  2 BHK Flat for Sale in Konchady Cross Road, Ma...         ₹45 Lac   \n",
       "283  2 BHK Flat for Sale in Bejai Kapikad Road, Man...  Call for Price   \n",
       "357  3 BHK Flat for Sale in Konchady Cross Road, Ma...         ₹50 Lac   \n",
       "374  2 BHK Flat for Sale in Bejai Kapikad Road, Man...        ₹1.05 Cr   \n",
       "384  2 BHK Flat for Sale in Bejai Kapikad Road, Man...         ₹26 Lac   \n",
       "402  2 BHK Flat for Sale in Bejai Kapikad Road, Man...        ₹1.15 Cr   \n",
       "406    2 BHK Flat for Sale in Balmatta Road, Mangalore         ₹50 Lac   \n",
       "407   2 BHK Flat for Sale in Bejai New Road, Mangalore        ₹1.15 Cr   \n",
       "412   4 BHK Flat for Sale in Bejai New Road, Mangalore        ₹1.85 Cr   \n",
       "413   3 BHK Flat for Sale in Bejai New Road, Mangalore        ₹1.50 Cr   \n",
       "414   3 BHK Flat for Sale in Bejai New Road, Mangalore        ₹1.35 Cr   \n",
       "425   2 BHK Flat for Sale in Bejai New Road, Mangalore        ₹1.05 Cr   \n",
       "484  3 BHK Flat for Sale in Kankanady Bypass Road, ...        ₹1.08 Cr   \n",
       "485  3 BHK Flat for Sale in Kankanady Bypass Road, ...        ₹1.18 Cr   \n",
       "486  4 BHK Flat for Sale in Kankanady Bypass Road, ...        ₹2.08 Cr   \n",
       "488  2 BHK Flat for Sale in Kankanady Bypass Road, ...       ₹81.4 Lac   \n",
       "545  2 BHK 1010 Sqft Apartment for Sale in Bejai-Ka...      50.68 Lakh   \n",
       "548  1 BHK 680 Sqft Apartment for Sale in Bejai-Kap...      34.12 Lakh   \n",
       "550  1 BHK 660 Sqft Apartment for Sale in Bejai-Kap...      33.11 Lakh   \n",
       "558  3 BHK 1240 Sqft Apartment for Sale in Bejai-Ka...      62.22 Lakh   \n",
       "716  2 BHK 975 Sqft Apartment for Sale in Bejai-Kap...      48.92 Lakh   \n",
       "802     4000 Sqft Plot For Sale in B.C Road, Mangalore        66 Lakhs   \n",
       "826  2 BHK 844 Sqft Apartment for Sale in B.C Road,...        34 Lakhs   \n",
       "\n",
       "       Area  BHK Location  \n",
       "18    780.0    2     Road  \n",
       "33   1875.0    2     Road  \n",
       "42   1350.0    3     Road  \n",
       "270  1160.0    2     Road  \n",
       "283  1140.0    2     Road  \n",
       "357  1400.0    3     Road  \n",
       "374  1279.0    2     Road  \n",
       "384   850.0    2     Road  \n",
       "402  1345.0    2     Road  \n",
       "406  1000.0    2     Road  \n",
       "407  1345.0    2     Road  \n",
       "412  2237.0    4     Road  \n",
       "413  1740.0    3     Road  \n",
       "414  1589.0    3     Road  \n",
       "425  1279.0    2     Road  \n",
       "484  1646.0    3     Road  \n",
       "485  1831.0    3     Road  \n",
       "486  2870.0    4     Road  \n",
       "488  1224.0    2     Road  \n",
       "545  1010.0    2     Road  \n",
       "548   680.0    1     Road  \n",
       "550   660.0    1     Road  \n",
       "558  1240.0    3     Road  \n",
       "716   975.0    2     Road  \n",
       "802  4000.0    0     Road  \n",
       "826   844.0    2     Road  "
      ]
     },
     "execution_count": 83,
     "metadata": {},
     "output_type": "execute_result"
    }
   ],
   "source": [
    "df[df[\"Location\"] == \"Road\"]"
   ]
  },
  {
   "cell_type": "code",
   "execution_count": 48,
   "id": "ddc56247-28b3-4e5a-a044-c7515f140c07",
   "metadata": {},
   "outputs": [],
   "source": [
    "df.loc[df[\"Location\"] == \"Airport\",\"Location\"] = \"Airport road\""
   ]
  },
  {
   "cell_type": "code",
   "execution_count": 73,
   "id": "04377e5e-7e36-47ae-9e14-d76d6e30be90",
   "metadata": {},
   "outputs": [],
   "source": [
    "df[\"Location\"] = df[\"Location\"].replace(\"Hills\",\"Kadri\")\n",
    "df[\"Location\"] = df[\"Location\"].replace(\"Shivabaugh\",\"Shiva bagh\")\n",
    "df[\"Location\"] = df[\"Location\"].replace(\"Kambla\",\"Kadri\")"
   ]
  },
  {
   "cell_type": "code",
   "execution_count": 37,
   "id": "fb7a7e41-3300-4e5d-b522-11d4ed505d0f",
   "metadata": {},
   "outputs": [],
   "source": [
    "df[\"Location\"] = df[\"Location\"].replace(\"Hill\",\"Mary Hill\")"
   ]
  },
  {
   "cell_type": "code",
   "execution_count": 44,
   "id": "a5d83d2f-a44a-474e-800c-7a1126a4c603",
   "metadata": {},
   "outputs": [],
   "source": [
    "df[\"Location\"] = df[\"Location\"].replace(\"road\",\"Airport road\")"
   ]
  },
  {
   "cell_type": "code",
   "execution_count": 52,
   "id": "c58fcb01-5c2e-4b6a-af10-78e7ea85f169",
   "metadata": {},
   "outputs": [],
   "source": [
    "df[\"Location\"] = df[\"Location\"].replace(\"Estate\",\"Yeyyadi\")"
   ]
  },
  {
   "cell_type": "code",
   "execution_count": 55,
   "id": "981a54fe-185b-4b36-a34c-c044b219aed0",
   "metadata": {},
   "outputs": [],
   "source": [
    "df[\"Location\"] = df[\"Location\"].replace(\"Street\",\"Car Street\")"
   ]
  },
  {
   "cell_type": "code",
   "execution_count": 80,
   "id": "24e496f2-cb98-460e-b129-a4b07ffd900f",
   "metadata": {},
   "outputs": [],
   "source": [
    "df[\"Location\"] = df[\"Location\"].replace(\"Chowk\",\"Kottara\")"
   ]
  },
  {
   "cell_type": "code",
   "execution_count": null,
   "id": "d01cebb3-1d14-4e2a-9bf3-d968f88b9799",
   "metadata": {},
   "outputs": [],
   "source": []
  }
 ],
 "metadata": {
  "kernelspec": {
   "display_name": "Python 3 (ipykernel)",
   "language": "python",
   "name": "python3"
  },
  "language_info": {
   "codemirror_mode": {
    "name": "ipython",
    "version": 3
   },
   "file_extension": ".py",
   "mimetype": "text/x-python",
   "name": "python",
   "nbconvert_exporter": "python",
   "pygments_lexer": "ipython3",
   "version": "3.12.1"
  }
 },
 "nbformat": 4,
 "nbformat_minor": 5
}
